{
 "cells": [
  {
   "cell_type": "code",
   "execution_count": 1,
   "id": "43164a90",
   "metadata": {},
   "outputs": [],
   "source": [
    "from keras.preprocessing.image import ImageDataGenerator\n",
    "from tensorflow.keras.layers import Conv2D, Dense, Flatten, MaxPooling2D, Dropout\n",
    "from keras.models import Model\n",
    "import time\n",
    "from tensorflow.keras.callbacks import EarlyStopping, TensorBoard\n",
    "import math\n",
    "from tensorflow import keras \n",
    "import os\n",
    "from PIL import Image, ImageOps, ImageChops\n",
    "import numpy as np"
   ]
  },
  {
   "cell_type": "code",
   "execution_count": 2,
   "id": "55dbf09b",
   "metadata": {},
   "outputs": [],
   "source": [
    "def loadTestData(path):\n",
    "    filelist=os.listdir(path)\n",
    "    \n",
    "    all_images = []\n",
    "    all_names = []\n",
    "    \n",
    "    # Iterate through class folders in path\n",
    "    for current_image in filelist:\n",
    "        \n",
    "        all_names.append(current_image)\n",
    "        \n",
    "        temp = Image.open(path+\"/\"+current_image)\n",
    "        keep = temp.copy()\n",
    "        all_images.append(keep)\n",
    "            \n",
    "    return all_images, all_names"
   ]
  },
  {
   "cell_type": "code",
   "execution_count": 3,
   "id": "0c5909cc",
   "metadata": {},
   "outputs": [],
   "source": [
    "#train_images, train_labels, train_class_list \n",
    "all_images, all_names = loadTestData(\"Data/test_data\")"
   ]
  },
  {
   "cell_type": "code",
   "execution_count": 4,
   "id": "a15307ce",
   "metadata": {},
   "outputs": [
    {
     "data": {
      "text/plain": [
       "8730"
      ]
     },
     "execution_count": 4,
     "metadata": {},
     "output_type": "execute_result"
    }
   ],
   "source": [
    "len(all_images)"
   ]
  },
  {
   "cell_type": "code",
   "execution_count": 5,
   "id": "6169802f",
   "metadata": {},
   "outputs": [
    {
     "data": {
      "text/plain": [
       "8730"
      ]
     },
     "execution_count": 5,
     "metadata": {},
     "output_type": "execute_result"
    }
   ],
   "source": [
    "len(all_names)"
   ]
  },
  {
   "cell_type": "markdown",
   "id": "d1da3d68",
   "metadata": {},
   "source": [
    "## Preprocessing der Testdaten"
   ]
  },
  {
   "cell_type": "code",
   "execution_count": 6,
   "id": "12fea1a6",
   "metadata": {},
   "outputs": [],
   "source": [
    "SIZE = 100"
   ]
  },
  {
   "cell_type": "code",
   "execution_count": 7,
   "id": "bf3ae9d4",
   "metadata": {},
   "outputs": [],
   "source": [
    "def resizeImages(list_images):\n",
    "    # Daten einheitlich auf 120x120 hochskalieren\n",
    "    for i in range(len(list_images)):\n",
    "        if list_images[i].width != SIZE:\n",
    "            #display(list_images[i])\n",
    "            new_image = list_images[i].resize((SIZE, SIZE))\n",
    "            #display(new_image)\n",
    "\n",
    "            list_images[i] = new_image\n",
    "    return list_images"
   ]
  },
  {
   "cell_type": "code",
   "execution_count": 8,
   "id": "4dc7cdfd",
   "metadata": {},
   "outputs": [],
   "source": [
    "X_test = resizeImages(all_images)"
   ]
  },
  {
   "cell_type": "code",
   "execution_count": 9,
   "id": "12da82e4",
   "metadata": {},
   "outputs": [],
   "source": [
    "def convertImageToNp(list_images):\n",
    "    all_np_images = []\n",
    "    for image in list_images:\n",
    "        current_image = np.array(image)\n",
    "        \n",
    "\n",
    "        # 4. wert bei rgb weg machen\n",
    "        current_image = current_image[:, :, :3]\n",
    "        #print(current_image.shape)\n",
    "\n",
    "        all_np_images.append(current_image)\n",
    "\n",
    "    return np.array(all_np_images)"
   ]
  },
  {
   "cell_type": "code",
   "execution_count": 10,
   "id": "2b7c0462",
   "metadata": {},
   "outputs": [],
   "source": [
    "X_test = convertImageToNp(X_test)\n"
   ]
  },
  {
   "cell_type": "code",
   "execution_count": 11,
   "id": "cd002526",
   "metadata": {},
   "outputs": [
    {
     "data": {
      "text/plain": [
       "(8730, 100, 100, 3)"
      ]
     },
     "execution_count": 11,
     "metadata": {},
     "output_type": "execute_result"
    }
   ],
   "source": [
    "X_test.shape"
   ]
  },
  {
   "cell_type": "markdown",
   "id": "14fc3ebe",
   "metadata": {},
   "source": [
    "## Model laden"
   ]
  },
  {
   "cell_type": "code",
   "execution_count": 41,
   "id": "077b4e75",
   "metadata": {},
   "outputs": [],
   "source": [
    "model_name = \"xceptionizerV4-nachtr2_8136\"\n",
    "rec_modelBEST = keras.models.load_model(\"goodModels/\"+model_name)"
   ]
  },
  {
   "cell_type": "code",
   "execution_count": 42,
   "id": "bca1fb15",
   "metadata": {},
   "outputs": [],
   "source": [
    "model_name = \"vgg16_nachtr_7823_BEST-v1-77.41\"\n",
    "rec_model2Best = keras.models.load_model(\"goodModels/\"+model_name)"
   ]
  },
  {
   "cell_type": "code",
   "execution_count": 43,
   "id": "c0d4c30f",
   "metadata": {},
   "outputs": [],
   "source": [
    "model_name = \"vgg16_MisterDropout-v3-75.91\"\n",
    "rec_model3Best = keras.models.load_model(\"goodModels/\"+model_name)"
   ]
  },
  {
   "cell_type": "code",
   "execution_count": 44,
   "id": "34964969",
   "metadata": {},
   "outputs": [],
   "source": [
    "model_name = \"resnet50_nachtr2_80.53\"\n",
    "rec_model4Best = keras.models.load_model(\"goodModels/\"+model_name)"
   ]
  },
  {
   "cell_type": "code",
   "execution_count": 45,
   "id": "091d01bf",
   "metadata": {},
   "outputs": [
    {
     "name": "stdout",
     "output_type": "stream",
     "text": [
      "273/273 [==============================] - 3s 9ms/step\n"
     ]
    }
   ],
   "source": [
    "y_pred1 = rec_modelBEST.predict(X_test)"
   ]
  },
  {
   "cell_type": "code",
   "execution_count": 46,
   "id": "8c3a0714",
   "metadata": {},
   "outputs": [
    {
     "name": "stdout",
     "output_type": "stream",
     "text": [
      "273/273 [==============================] - 4s 12ms/step\n"
     ]
    }
   ],
   "source": [
    "y_pred2 = rec_model2Best.predict(X_test)"
   ]
  },
  {
   "cell_type": "code",
   "execution_count": 47,
   "id": "89a42551",
   "metadata": {},
   "outputs": [
    {
     "name": "stdout",
     "output_type": "stream",
     "text": [
      "273/273 [==============================] - 3s 11ms/step\n"
     ]
    }
   ],
   "source": [
    "y_pred3 = rec_model3Best.predict(X_test)"
   ]
  },
  {
   "cell_type": "code",
   "execution_count": 48,
   "id": "e1d57d8b",
   "metadata": {},
   "outputs": [
    {
     "name": "stdout",
     "output_type": "stream",
     "text": [
      "273/273 [==============================] - 4s 12ms/step\n"
     ]
    }
   ],
   "source": [
    "y_pred4 = rec_model4Best.predict(X_test)"
   ]
  },
  {
   "cell_type": "code",
   "execution_count": 55,
   "id": "bfd1ef9c",
   "metadata": {},
   "outputs": [],
   "source": [
    "final_pred = (y_pred1+y_pred2+y_pred3+y_pred4)/4"
   ]
  },
  {
   "cell_type": "code",
   "execution_count": 56,
   "id": "82b83ea1",
   "metadata": {},
   "outputs": [],
   "source": [
    "y_pred = final_pred"
   ]
  },
  {
   "cell_type": "raw",
   "id": "25d52c60",
   "metadata": {},
   "source": [
    "#single pred\n",
    "model_name = \"resnet50_nachtr2_80.53\"\n",
    "rec_model = keras.models.load_model(\"goodModels/\"+model_name)\n",
    "y_pred = rec_model.predict(X_test)"
   ]
  },
  {
   "cell_type": "code",
   "execution_count": 57,
   "id": "ddbe4e80",
   "metadata": {},
   "outputs": [],
   "source": [
    "import pandas as pd"
   ]
  },
  {
   "cell_type": "code",
   "execution_count": 58,
   "id": "b3d12de1",
   "metadata": {},
   "outputs": [],
   "source": [
    "df_pred = pd.DataFrame(y_pred,\n",
    "                   columns=[\"Bicycle\",\"Bridge\",\"Bus\",\"Car\",\"Chimney\",\"Crosswalk\",\"Hydrant\",\"Motorcycle\",\"Other\",\"Palm\",\"Stair\",\"Traffic Light\"])\n",
    "\n",
    "df_names = pd.DataFrame(all_names,\n",
    "                   columns=[\"ImageName\"])\n",
    "\n",
    "df_full = pd.merge(df_names, df_pred, left_index=True, right_index=True)"
   ]
  },
  {
   "cell_type": "code",
   "execution_count": 59,
   "id": "fbfbc69b",
   "metadata": {},
   "outputs": [
    {
     "data": {
      "text/html": [
       "<div>\n",
       "<style scoped>\n",
       "    .dataframe tbody tr th:only-of-type {\n",
       "        vertical-align: middle;\n",
       "    }\n",
       "\n",
       "    .dataframe tbody tr th {\n",
       "        vertical-align: top;\n",
       "    }\n",
       "\n",
       "    .dataframe thead th {\n",
       "        text-align: right;\n",
       "    }\n",
       "</style>\n",
       "<table border=\"1\" class=\"dataframe\">\n",
       "  <thead>\n",
       "    <tr style=\"text-align: right;\">\n",
       "      <th></th>\n",
       "      <th>ImageName</th>\n",
       "      <th>Bicycle</th>\n",
       "      <th>Bridge</th>\n",
       "      <th>Bus</th>\n",
       "      <th>Car</th>\n",
       "      <th>Chimney</th>\n",
       "      <th>Crosswalk</th>\n",
       "      <th>Hydrant</th>\n",
       "      <th>Motorcycle</th>\n",
       "      <th>Other</th>\n",
       "      <th>Palm</th>\n",
       "      <th>Stair</th>\n",
       "      <th>Traffic Light</th>\n",
       "    </tr>\n",
       "  </thead>\n",
       "  <tbody>\n",
       "    <tr>\n",
       "      <th>0</th>\n",
       "      <td>03000.png</td>\n",
       "      <td>5.247577e-04</td>\n",
       "      <td>1.537159e-05</td>\n",
       "      <td>0.631155</td>\n",
       "      <td>0.364734</td>\n",
       "      <td>4.268799e-06</td>\n",
       "      <td>0.000681</td>\n",
       "      <td>5.234825e-06</td>\n",
       "      <td>2.095778e-06</td>\n",
       "      <td>0.000093</td>\n",
       "      <td>2.746655e-03</td>\n",
       "      <td>6.295043e-06</td>\n",
       "      <td>0.000033</td>\n",
       "    </tr>\n",
       "    <tr>\n",
       "      <th>1</th>\n",
       "      <td>03001.png</td>\n",
       "      <td>5.149589e-02</td>\n",
       "      <td>3.784669e-03</td>\n",
       "      <td>0.001143</td>\n",
       "      <td>0.420824</td>\n",
       "      <td>7.543443e-04</td>\n",
       "      <td>0.384109</td>\n",
       "      <td>9.255276e-04</td>\n",
       "      <td>3.174576e-03</td>\n",
       "      <td>0.114180</td>\n",
       "      <td>2.299610e-03</td>\n",
       "      <td>1.520118e-03</td>\n",
       "      <td>0.015788</td>\n",
       "    </tr>\n",
       "    <tr>\n",
       "      <th>2</th>\n",
       "      <td>03002.png</td>\n",
       "      <td>1.743689e-08</td>\n",
       "      <td>1.774650e-07</td>\n",
       "      <td>0.000304</td>\n",
       "      <td>0.972631</td>\n",
       "      <td>9.440081e-10</td>\n",
       "      <td>0.027062</td>\n",
       "      <td>8.777469e-09</td>\n",
       "      <td>1.390918e-07</td>\n",
       "      <td>0.000002</td>\n",
       "      <td>2.860974e-07</td>\n",
       "      <td>9.831463e-10</td>\n",
       "      <td>0.000001</td>\n",
       "    </tr>\n",
       "    <tr>\n",
       "      <th>3</th>\n",
       "      <td>03003.png</td>\n",
       "      <td>6.539125e-04</td>\n",
       "      <td>1.286151e-04</td>\n",
       "      <td>0.777649</td>\n",
       "      <td>0.000034</td>\n",
       "      <td>2.354194e-05</td>\n",
       "      <td>0.205208</td>\n",
       "      <td>5.254985e-07</td>\n",
       "      <td>2.105750e-07</td>\n",
       "      <td>0.000002</td>\n",
       "      <td>1.417052e-02</td>\n",
       "      <td>2.093131e-03</td>\n",
       "      <td>0.000037</td>\n",
       "    </tr>\n",
       "    <tr>\n",
       "      <th>4</th>\n",
       "      <td>03004.png</td>\n",
       "      <td>1.210047e-03</td>\n",
       "      <td>3.996750e-03</td>\n",
       "      <td>0.050061</td>\n",
       "      <td>0.172336</td>\n",
       "      <td>3.939630e-04</td>\n",
       "      <td>0.028864</td>\n",
       "      <td>3.894994e-04</td>\n",
       "      <td>6.516040e-04</td>\n",
       "      <td>0.738256</td>\n",
       "      <td>2.182879e-03</td>\n",
       "      <td>1.063507e-03</td>\n",
       "      <td>0.000594</td>\n",
       "    </tr>\n",
       "    <tr>\n",
       "      <th>...</th>\n",
       "      <td>...</td>\n",
       "      <td>...</td>\n",
       "      <td>...</td>\n",
       "      <td>...</td>\n",
       "      <td>...</td>\n",
       "      <td>...</td>\n",
       "      <td>...</td>\n",
       "      <td>...</td>\n",
       "      <td>...</td>\n",
       "      <td>...</td>\n",
       "      <td>...</td>\n",
       "      <td>...</td>\n",
       "      <td>...</td>\n",
       "    </tr>\n",
       "    <tr>\n",
       "      <th>8725</th>\n",
       "      <td>11726.png</td>\n",
       "      <td>1.731811e-02</td>\n",
       "      <td>1.649997e-05</td>\n",
       "      <td>0.515693</td>\n",
       "      <td>0.088856</td>\n",
       "      <td>1.967161e-05</td>\n",
       "      <td>0.015859</td>\n",
       "      <td>1.622729e-05</td>\n",
       "      <td>4.663106e-03</td>\n",
       "      <td>0.000340</td>\n",
       "      <td>6.688482e-06</td>\n",
       "      <td>3.570476e-01</td>\n",
       "      <td>0.000164</td>\n",
       "    </tr>\n",
       "    <tr>\n",
       "      <th>8726</th>\n",
       "      <td>11727.png</td>\n",
       "      <td>1.915421e-05</td>\n",
       "      <td>1.486833e-03</td>\n",
       "      <td>0.000139</td>\n",
       "      <td>0.001291</td>\n",
       "      <td>1.944986e-04</td>\n",
       "      <td>0.000026</td>\n",
       "      <td>6.607836e-06</td>\n",
       "      <td>1.714033e-06</td>\n",
       "      <td>0.956784</td>\n",
       "      <td>3.931430e-02</td>\n",
       "      <td>6.653789e-05</td>\n",
       "      <td>0.000670</td>\n",
       "    </tr>\n",
       "    <tr>\n",
       "      <th>8727</th>\n",
       "      <td>11728.png</td>\n",
       "      <td>4.303919e-06</td>\n",
       "      <td>1.242667e-04</td>\n",
       "      <td>0.983710</td>\n",
       "      <td>0.009521</td>\n",
       "      <td>2.688308e-05</td>\n",
       "      <td>0.000821</td>\n",
       "      <td>3.192810e-06</td>\n",
       "      <td>9.855545e-07</td>\n",
       "      <td>0.002836</td>\n",
       "      <td>2.537235e-03</td>\n",
       "      <td>2.750054e-04</td>\n",
       "      <td>0.000140</td>\n",
       "    </tr>\n",
       "    <tr>\n",
       "      <th>8728</th>\n",
       "      <td>11729.png</td>\n",
       "      <td>3.277080e-05</td>\n",
       "      <td>6.229158e-05</td>\n",
       "      <td>0.003257</td>\n",
       "      <td>0.995805</td>\n",
       "      <td>1.927431e-07</td>\n",
       "      <td>0.000675</td>\n",
       "      <td>3.233587e-05</td>\n",
       "      <td>1.038864e-04</td>\n",
       "      <td>0.000018</td>\n",
       "      <td>4.920988e-06</td>\n",
       "      <td>2.172987e-06</td>\n",
       "      <td>0.000007</td>\n",
       "    </tr>\n",
       "    <tr>\n",
       "      <th>8729</th>\n",
       "      <td>11730.png</td>\n",
       "      <td>6.227413e-06</td>\n",
       "      <td>2.120084e-03</td>\n",
       "      <td>0.000189</td>\n",
       "      <td>0.996733</td>\n",
       "      <td>6.858388e-06</td>\n",
       "      <td>0.000048</td>\n",
       "      <td>7.087077e-06</td>\n",
       "      <td>2.227714e-06</td>\n",
       "      <td>0.000729</td>\n",
       "      <td>2.081477e-05</td>\n",
       "      <td>9.563655e-07</td>\n",
       "      <td>0.000137</td>\n",
       "    </tr>\n",
       "  </tbody>\n",
       "</table>\n",
       "<p>8730 rows × 13 columns</p>\n",
       "</div>"
      ],
      "text/plain": [
       "      ImageName       Bicycle        Bridge       Bus       Car       Chimney  \\\n",
       "0     03000.png  5.247577e-04  1.537159e-05  0.631155  0.364734  4.268799e-06   \n",
       "1     03001.png  5.149589e-02  3.784669e-03  0.001143  0.420824  7.543443e-04   \n",
       "2     03002.png  1.743689e-08  1.774650e-07  0.000304  0.972631  9.440081e-10   \n",
       "3     03003.png  6.539125e-04  1.286151e-04  0.777649  0.000034  2.354194e-05   \n",
       "4     03004.png  1.210047e-03  3.996750e-03  0.050061  0.172336  3.939630e-04   \n",
       "...         ...           ...           ...       ...       ...           ...   \n",
       "8725  11726.png  1.731811e-02  1.649997e-05  0.515693  0.088856  1.967161e-05   \n",
       "8726  11727.png  1.915421e-05  1.486833e-03  0.000139  0.001291  1.944986e-04   \n",
       "8727  11728.png  4.303919e-06  1.242667e-04  0.983710  0.009521  2.688308e-05   \n",
       "8728  11729.png  3.277080e-05  6.229158e-05  0.003257  0.995805  1.927431e-07   \n",
       "8729  11730.png  6.227413e-06  2.120084e-03  0.000189  0.996733  6.858388e-06   \n",
       "\n",
       "      Crosswalk       Hydrant    Motorcycle     Other          Palm  \\\n",
       "0      0.000681  5.234825e-06  2.095778e-06  0.000093  2.746655e-03   \n",
       "1      0.384109  9.255276e-04  3.174576e-03  0.114180  2.299610e-03   \n",
       "2      0.027062  8.777469e-09  1.390918e-07  0.000002  2.860974e-07   \n",
       "3      0.205208  5.254985e-07  2.105750e-07  0.000002  1.417052e-02   \n",
       "4      0.028864  3.894994e-04  6.516040e-04  0.738256  2.182879e-03   \n",
       "...         ...           ...           ...       ...           ...   \n",
       "8725   0.015859  1.622729e-05  4.663106e-03  0.000340  6.688482e-06   \n",
       "8726   0.000026  6.607836e-06  1.714033e-06  0.956784  3.931430e-02   \n",
       "8727   0.000821  3.192810e-06  9.855545e-07  0.002836  2.537235e-03   \n",
       "8728   0.000675  3.233587e-05  1.038864e-04  0.000018  4.920988e-06   \n",
       "8729   0.000048  7.087077e-06  2.227714e-06  0.000729  2.081477e-05   \n",
       "\n",
       "             Stair  Traffic Light  \n",
       "0     6.295043e-06       0.000033  \n",
       "1     1.520118e-03       0.015788  \n",
       "2     9.831463e-10       0.000001  \n",
       "3     2.093131e-03       0.000037  \n",
       "4     1.063507e-03       0.000594  \n",
       "...            ...            ...  \n",
       "8725  3.570476e-01       0.000164  \n",
       "8726  6.653789e-05       0.000670  \n",
       "8727  2.750054e-04       0.000140  \n",
       "8728  2.172987e-06       0.000007  \n",
       "8729  9.563655e-07       0.000137  \n",
       "\n",
       "[8730 rows x 13 columns]"
      ]
     },
     "execution_count": 59,
     "metadata": {},
     "output_type": "execute_result"
    }
   ],
   "source": [
    "df_full"
   ]
  },
  {
   "cell_type": "code",
   "execution_count": 60,
   "id": "d7a1bd25",
   "metadata": {},
   "outputs": [],
   "source": [
    "df_full.to_csv(\"prediction/MASTER\"+model_name+'_prediction.csv',sep=',', float_format='%.8f', index=False) "
   ]
  }
 ],
 "metadata": {
  "kernelspec": {
   "display_name": "python3.10",
   "language": "python",
   "name": "python3.10"
  },
  "language_info": {
   "codemirror_mode": {
    "name": "ipython",
    "version": 3
   },
   "file_extension": ".py",
   "mimetype": "text/x-python",
   "name": "python",
   "nbconvert_exporter": "python",
   "pygments_lexer": "ipython3",
   "version": "3.10.9"
  }
 },
 "nbformat": 4,
 "nbformat_minor": 5
}
